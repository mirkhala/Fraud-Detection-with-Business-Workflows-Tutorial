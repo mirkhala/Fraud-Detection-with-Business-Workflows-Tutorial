{
 "cells": [
  {
   "cell_type": "code",
   "execution_count": 1,
   "metadata": {},
   "outputs": [
    {
     "name": "stdout",
     "output_type": "stream",
     "text": [
      "README.md\n",
      "oc\n",
      "kubectl\n"
     ]
    },
    {
     "name": "stderr",
     "output_type": "stream",
     "text": [
      "  % Total    % Received % Xferd  Average Speed   Time    Time     Time  Current\n",
      "                                 Dload  Upload   Total   Spent    Left  Speed\n",
      "100 23.2M  100 23.2M    0     0  44.5M      0 --:--:-- --:--:-- --:--:-- 44.5M\n",
      "bash: line 2: a: command not found\n"
     ]
    }
   ],
   "source": [
    "%%bash\n",
    "curl -o oc.tar.gz -L https://mirror.openshift.com/pub/openshift-v4/clients/oc/4.6/linux/oc.tar.gz\n",
    "a\n",
    "tar -zxvf oc.tar.gz\n",
    "cp oc ~/../bin/oc"
   ]
  },
  {
   "cell_type": "code",
   "execution_count": 6,
   "metadata": {},
   "outputs": [],
   "source": [
    "%%bash\n",
    "\n",
    "oc login -u opentlc-mgr -p r3dh4t1! --insecure-skip-tls-verify https://api.cluster-mlops-4f2f.mlops-4f2f.sandbox1485.opentlc.com:6443\n",
    "oc project ccfd-dev"
   ]
  },
  {
   "cell_type": "code",
   "execution_count": 3,
   "metadata": {},
   "outputs": [
    {
     "name": "stdout",
     "output_type": "stream",
     "text": [
      "Already on project \"ccfd-dev\" on server \"https://api.cluster-mlops-4f2f.mlops-4f2f.sandbox1485.opentlc.com:6443\".\n",
      "seldondeployment.machinelearning.seldon.io/modelfull created\n",
      "NAME        AGE\n",
      "modelfull   1s\n"
     ]
    }
   ],
   "source": [
    "%%bash\n",
    "oc project ccfd-dev\n",
    "oc create -n ccfd-dev -f https://raw.githubusercontent.com/mirkhala/Fraud-Detection-with-Business-Workflows-Tutorial/main/deploy/model/modelfull-joblib.yaml\n",
    "oc get seldondeployments"
   ]
  },
  {
   "cell_type": "code",
   "execution_count": 4,
   "metadata": {},
   "outputs": [
    {
     "name": "stdout",
     "output_type": "stream",
     "text": [
      "route.route.openshift.io/modelfull created\n"
     ]
    }
   ],
   "source": [
    "%%bash\n",
    "\n",
    "oc apply -n ccfd-dev -f https://raw.githubusercontent.com/opendatahub-io/Fraud-Detection-with-Business-Workflows-Tutorial/main/deploy/model/modelfull-route.yaml"
   ]
  },
  {
   "cell_type": "code",
   "execution_count": 7,
   "metadata": {},
   "outputs": [],
   "source": [
    "%%bash\n",
    "\n",
    "# curl -X POST -H 'Content-Type: application/json' -d '{\"strData\": \"0.365194527642578,0.819750231339882,-0.5927999453145171,-0.619484351930421,-2.84752569239798,1.48432160780265,0.499518887687186,72.98\"}' http://$(oc get route -n ccfd-dev | grep modelfull | awk '{print $2}')/api/v1.0/predictions"
   ]
  },
  {
   "cell_type": "code",
   "execution_count": null,
   "metadata": {},
   "outputs": [],
   "source": []
  }
 ],
 "metadata": {
  "kernelspec": {
   "display_name": "Python 3",
   "language": "python",
   "name": "python3"
  },
  "language_info": {
   "codemirror_mode": {
    "name": "ipython",
    "version": 3
   },
   "file_extension": ".py",
   "mimetype": "text/x-python",
   "name": "python",
   "nbconvert_exporter": "python",
   "pygments_lexer": "ipython3",
   "version": "3.6.8"
  }
 },
 "nbformat": 4,
 "nbformat_minor": 4
}
