{
 "cells": [
  {
   "cell_type": "code",
   "execution_count": null,
   "metadata": {},
   "outputs": [],
   "source": [
    "# !pip install -r requirements.txt"
   ]
  },
  {
   "cell_type": "code",
   "execution_count": 1,
   "metadata": {},
   "outputs": [],
   "source": [
    "import os\n",
    "import pandas as pd\n",
    "import boto3\n",
    "import botocore"
   ]
  },
  {
   "cell_type": "markdown",
   "metadata": {},
   "source": [
    "## Upload Credit Card Data to ODH Ceph-Nano"
   ]
  },
  {
   "cell_type": "code",
   "execution_count": 2,
   "metadata": {},
   "outputs": [],
   "source": [
    "s3_endpoint_url = os.environ.get('ENDPOINT_URL', \n",
    "    \"http://s3-rook-ceph.apps.cluster-mlops-4f2f.mlops-4f2f.sandbox1485.opentlc.com\")\n",
    "s3_access_key = os.environ.get('AWS_ACCESS_KEY_ID',\n",
    "    \"DUCLUBW5EOGUTIM5UU83\")\n",
    "s3_secret_key = os.environ.get('AWS_SECRET_ACCESS_KEY',\n",
    "    \"hPSyLCEOfgkY6xPmAPf846n71EEMiNI1YHWyZjyW\")\n",
    "s3_bucket=\"ccdata-1f48081f-efe6-423e-9381-301a05bafc6c\""
   ]
  },
  {
   "cell_type": "code",
   "execution_count": 3,
   "metadata": {},
   "outputs": [
    {
     "name": "stdout",
     "output_type": "stream",
     "text": [
      "Bucket is already created!\n"
     ]
    }
   ],
   "source": [
    "# Create an S3 client\n",
    "s3 = boto3.client(service_name='s3',\n",
    "                  aws_access_key_id = s3_access_key,\n",
    "                  aws_secret_access_key = s3_secret_key, \n",
    "                  endpoint_url=s3_endpoint_url)\n",
    "try:\n",
    "    s3.create_bucket(Bucket=s3_bucket)\n",
    "except botocore.exceptions.ClientError as error:\n",
    "    print(\"Bucket is already created!\")"
   ]
  },
  {
   "cell_type": "code",
   "execution_count": 5,
   "metadata": {},
   "outputs": [],
   "source": [
    "url = 'https://raw.githubusercontent.com/mirkhala/Fraud-Detection-with-Business-Workflows-Tutorial/main/data/creditcard-sample10k.csv'\n",
    "df = pd.read_csv(url, index_col=0)\n",
    "df.to_csv(\"creditcard-sample10k.csv\")"
   ]
  },
  {
   "cell_type": "code",
   "execution_count": 6,
   "metadata": {},
   "outputs": [],
   "source": [
    "key = \"uploaded/creditcard-sample10k.csv\"\n",
    "s3.upload_file(Bucket=s3_bucket, Key=key, Filename=\"creditcard-sample10k.csv\")"
   ]
  },
  {
   "cell_type": "code",
   "execution_count": 8,
   "metadata": {},
   "outputs": [
    {
     "name": "stdout",
     "output_type": "stream",
     "text": [
      "['uploaded/creditcard-sample10k.csv', 'uploaded/modelfull.pkl']\n"
     ]
    }
   ],
   "source": [
    "prefix='uploaded/'\n",
    "result = s3.list_objects(Bucket=s3_bucket, Prefix=prefix, Delimiter='/')\n",
    "print([obj['Key'] for obj in result['Contents']])"
   ]
  },
  {
   "cell_type": "code",
   "execution_count": null,
   "metadata": {},
   "outputs": [],
   "source": []
  }
 ],
 "metadata": {
  "kernelspec": {
   "display_name": "Python 3",
   "language": "python",
   "name": "python3"
  },
  "language_info": {
   "codemirror_mode": {
    "name": "ipython",
    "version": 3
   },
   "file_extension": ".py",
   "mimetype": "text/x-python",
   "name": "python",
   "nbconvert_exporter": "python",
   "pygments_lexer": "ipython3",
   "version": "3.6.8"
  }
 },
 "nbformat": 4,
 "nbformat_minor": 4
}
