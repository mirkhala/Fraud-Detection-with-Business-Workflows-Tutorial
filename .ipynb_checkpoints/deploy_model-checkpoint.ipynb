{
 "cells": [
  {
   "cell_type": "code",
   "execution_count": null,
   "metadata": {},
   "outputs": [],
   "source": [
    "%%bash\n",
    "curl -o s2i.tar.gz -L https://github.com/openshift/source-to-image/releases/download/v1.3.1/source-to-image-v1.3.1-a5a77147-linux-386.tar.gz\n",
    "tar -zxvf s2i.tar.gz\n",
    "cp s2i ~/../bin/s2i"
   ]
  },
  {
   "cell_type": "code",
   "execution_count": null,
   "metadata": {},
   "outputs": [],
   "source": [
    "# %%bash\n",
    "# s2i build containers/ccfd-modelfull/modelfull.py seldonio/seldon-core-s2i-python3:1.2.2 magdamartinez/ccfd:1.1\n"
   ]
  },
  {
   "cell_type": "code",
   "execution_count": null,
   "metadata": {},
   "outputs": [],
   "source": [
    "%%bash\n",
    "curl -o oc.tar.gz -L https://mirror.openshift.com/pub/openshift-v4/clients/oc/4.6/linux/oc.tar.gz\n",
    "a\n",
    "tar -zxvf oc.tar.gz\n",
    "cp oc ~/../bin/oc"
   ]
  },
  {
   "cell_type": "code",
   "execution_count": null,
   "metadata": {},
   "outputs": [],
   "source": [
    "%%bash\n",
    "\n",
    "oc login -u opentlc-mgr -p r3dh4t1! --insecure-skip-tls-verify https://api.cluster-mlops-4f2f.mlops-4f2f.sandbox1485.opentlc.com:6443\n",
    "oc project ccfd-dev"
   ]
  },
  {
   "cell_type": "code",
   "execution_count": null,
   "metadata": {},
   "outputs": [],
   "source": [
    "%%bash\n",
    "oc project ccfd-dev\n",
    "oc create -n ccfd-dev -f https://raw.githubusercontent.com/mirkhala/Fraud-Detection-with-Business-Workflows-Tutorial/main/deploy/model/modelfull.yaml\n",
    "oc get seldondeployments"
   ]
  },
  {
   "cell_type": "code",
   "execution_count": null,
   "metadata": {},
   "outputs": [],
   "source": [
    "%%bash\n",
    "\n",
    "oc apply -n ccfd-dev https://raw.githubusercontent.com/opendatahub-io/Fraud-Detection-with-Business-Workflows-Tutorial/main/deploy/model/modelfull-route.yaml"
   ]
  }
 ],
 "metadata": {
  "kernelspec": {
   "display_name": "Python 3",
   "language": "python",
   "name": "python3"
  },
  "language_info": {
   "codemirror_mode": {
    "name": "ipython",
    "version": 3
   },
   "file_extension": ".py",
   "mimetype": "text/x-python",
   "name": "python",
   "nbconvert_exporter": "python",
   "pygments_lexer": "ipython3",
   "version": "3.6.8"
  }
 },
 "nbformat": 4,
 "nbformat_minor": 4
}
