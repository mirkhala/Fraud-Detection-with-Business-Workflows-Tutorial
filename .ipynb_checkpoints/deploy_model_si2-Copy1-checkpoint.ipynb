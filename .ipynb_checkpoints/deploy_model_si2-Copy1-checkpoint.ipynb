{
 "cells": [
  {
   "cell_type": "code",
   "execution_count": 7,
   "metadata": {},
   "outputs": [
    {
     "name": "stdout",
     "output_type": "stream",
     "text": [
      "./\n",
      "./sti\n",
      "./s2i\n"
     ]
    },
    {
     "name": "stderr",
     "output_type": "stream",
     "text": [
      "  % Total    % Received % Xferd  Average Speed   Time    Time     Time  Current\n",
      "                                 Dload  Upload   Total   Spent    Left  Speed\n",
      "100   654  100   654    0     0   5232      0 --:--:-- --:--:-- --:--:--  5232\n",
      "100 6203k  100 6203k    0     0   9.9M      0 --:--:-- --:--:-- --:--:--  9.9M\n"
     ]
    }
   ],
   "source": [
    "%%bash\n",
    "curl -o s2i.tar.gz -L https://github.com/openshift/source-to-image/releases/download/v1.3.1/source-to-image-v1.3.1-a5a77147-linux-386.tar.gz\n",
    "tar -zxvf s2i.tar.gz\n",
    "cp s2i ~/../bin/s2i"
   ]
  },
  {
   "cell_type": "code",
   "execution_count": 8,
   "metadata": {},
   "outputs": [],
   "source": [
    "# %%bash\n",
    "# s2i build containers/ccfd-modelfull/modelfull.py seldonio/seldon-core-s2i-python3:1.2.2 magdamartinez/ccfd:1.1\n"
   ]
  },
  {
   "cell_type": "code",
   "execution_count": 9,
   "metadata": {},
   "outputs": [
    {
     "name": "stdout",
     "output_type": "stream",
     "text": [
      "README.md\n",
      "oc\n",
      "kubectl\n"
     ]
    },
    {
     "name": "stderr",
     "output_type": "stream",
     "text": [
      "  % Total    % Received % Xferd  Average Speed   Time    Time     Time  Current\n",
      "                                 Dload  Upload   Total   Spent    Left  Speed\n",
      "100 23.2M  100 23.2M    0     0  29.8M      0 --:--:-- --:--:-- --:--:-- 29.8M\n",
      "bash: line 2: a: command not found\n"
     ]
    }
   ],
   "source": [
    "%%bash\n",
    "curl -o oc.tar.gz -L https://mirror.openshift.com/pub/openshift-v4/clients/oc/4.6/linux/oc.tar.gz\n",
    "a\n",
    "tar -zxvf oc.tar.gz\n",
    "cp oc ~/../bin/oc"
   ]
  },
  {
   "cell_type": "code",
   "execution_count": 10,
   "metadata": {},
   "outputs": [
    {
     "name": "stdout",
     "output_type": "stream",
     "text": [
      "Login successful.\n",
      "\n",
      "You have access to 74 projects, the list has been suppressed. You can list all projects with ' projects'\n",
      "\n",
      "Using project \"ccfd-dev\".\n",
      "Already on project \"ccfd-dev\" on server \"https://api.cluster-mlops-4f2f.mlops-4f2f.sandbox1485.opentlc.com:6443\".\n"
     ]
    }
   ],
   "source": [
    "%%bash\n",
    "\n",
    "oc login -u opentlc-mgr -p r3dh4t1! --insecure-skip-tls-verify https://api.cluster-mlops-4f2f.mlops-4f2f.sandbox1485.opentlc.com:6443\n",
    "oc project ccfd-dev"
   ]
  },
  {
   "cell_type": "code",
   "execution_count": 11,
   "metadata": {},
   "outputs": [
    {
     "name": "stdout",
     "output_type": "stream",
     "text": [
      "Already on project \"ccfd-dev\" on server \"https://api.cluster-mlops-4f2f.mlops-4f2f.sandbox1485.opentlc.com:6443\".\n",
      "NAME        AGE\n",
      "modelfull   15m\n"
     ]
    },
    {
     "name": "stderr",
     "output_type": "stream",
     "text": [
      "Error from server (AlreadyExists): error when creating \"https://raw.githubusercontent.com/mirkhala/Fraud-Detection-with-Business-Workflows-Tutorial/main/deploy/model/modelfull.yaml\": seldondeployments.machinelearning.seldon.io \"modelfull\" already exists\n"
     ]
    }
   ],
   "source": [
    "%%bash\n",
    "oc project ccfd-dev\n",
    "oc create -n ccfd-dev -f https://raw.githubusercontent.com/mirkhala/Fraud-Detection-with-Business-Workflows-Tutorial/main/deploy/model/modelfull.yaml\n",
    "oc get seldondeployments"
   ]
  },
  {
   "cell_type": "code",
   "execution_count": 14,
   "metadata": {},
   "outputs": [
    {
     "name": "stdout",
     "output_type": "stream",
     "text": [
      "route.route.openshift.io/modelfull created\n"
     ]
    }
   ],
   "source": [
    "%%bash\n",
    "\n",
    "oc apply -n ccfd-dev -f https://raw.githubusercontent.com/opendatahub-io/Fraud-Detection-with-Business-Workflows-Tutorial/main/deploy/model/modelfull-route.yaml"
   ]
  },
  {
   "cell_type": "code",
   "execution_count": 15,
   "metadata": {},
   "outputs": [
    {
     "name": "stdout",
     "output_type": "stream",
     "text": [
      "{\"data\":{\"names\":[],\"tensor\":{\"shape\":[1],\"values\":[0]}},\"meta\":{\"metrics\":[{\"key\":\"V3\",\"type\":\"GAUGE\",\"value\":0.365194527642578},{\"key\":\"V4\",\"type\":\"GAUGE\",\"value\":0.819750231339882},{\"key\":\"V10\",\"type\":\"GAUGE\",\"value\":-0.5927999453145171},{\"key\":\"V11\",\"type\":\"GAUGE\",\"value\":-0.619484351930421},{\"key\":\"V12\",\"type\":\"GAUGE\",\"value\":-2.84752569239798},{\"key\":\"V14\",\"type\":\"GAUGE\",\"value\":1.48432160780265},{\"key\":\"V17\",\"type\":\"GAUGE\",\"value\":0.499518887687186},{\"key\":\"Amount\",\"type\":\"GAUGE\",\"value\":72.98},{\"key\":\"proba_1\",\"type\":\"GAUGE\",\"value\":0.052660697016054275}]}}\n"
     ]
    },
    {
     "name": "stderr",
     "output_type": "stream",
     "text": [
      "  % Total    % Received % Xferd  Average Speed   Time    Time     Time  Current\n",
      "                                 Dload  Upload   Total   Spent    Left  Speed\n",
      "100   720  100   572  100   148   2353    609 --:--:-- --:--:-- --:--:--  2962\n"
     ]
    }
   ],
   "source": [
    "%%bash\n",
    "\n",
    "curl -X POST -H 'Content-Type: application/json' -d '{\"strData\": \"0.365194527642578,0.819750231339882,-0.5927999453145171,-0.619484351930421,-2.84752569239798,1.48432160780265,0.499518887687186,72.98\"}' http://$(oc get route -n ccfd-dev | grep modelfull | awk '{print $2}')/api/v1.0/predictions"
   ]
  },
  {
   "cell_type": "code",
   "execution_count": null,
   "metadata": {},
   "outputs": [],
   "source": []
  }
 ],
 "metadata": {
  "kernelspec": {
   "display_name": "Python 3",
   "language": "python",
   "name": "python3"
  },
  "language_info": {
   "codemirror_mode": {
    "name": "ipython",
    "version": 3
   },
   "file_extension": ".py",
   "mimetype": "text/x-python",
   "name": "python",
   "nbconvert_exporter": "python",
   "pygments_lexer": "ipython3",
   "version": "3.6.8"
  }
 },
 "nbformat": 4,
 "nbformat_minor": 4
}
